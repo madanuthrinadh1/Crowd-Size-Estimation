{
 "cells": [
  {
   "cell_type": "markdown",
   "id": "d5f5f4f0",
   "metadata": {},
   "source": [
    "Importing required libraries"
   ]
  },
  {
   "cell_type": "code",
   "execution_count": null,
   "id": "1d8d43dd",
   "metadata": {},
   "outputs": [],
   "source": [
    "import cv2\n",
    "import imutils\n",
    "from imutils.object_detection import non_max_suppression\n",
    "import numpy as np\n",
    "import requests\n",
    "import time\n",
    "from urllib.request import urlopen"
   ]
  },
  {
   "cell_type": "markdown",
   "id": "604aa437",
   "metadata": {},
   "source": [
    "ThingSpeak Configuration\n",
    "channel_id: ThingSpeak channel ID\n",
    "WRITE_API: ThingSpeak write API key\n",
    "BASE_URL: Base URL for sending data to ThingSpeak"
   ]
  },
  {
   "cell_type": "code",
   "execution_count": null,
   "id": "ec6a94dd",
   "metadata": {},
   "outputs": [],
   "source": [
    "channel_id =  2273329\n",
    "WRITE_API  = 'ZZE21YW6F9KHEI2H'\n",
    "BASE_URL = \"https://api.thingspeak.com/update?api_key={}\".format(WRITE_API)"
   ]
  },
  {
   "cell_type": "markdown",
   "id": "dd799626",
   "metadata": {},
   "source": [
    "This code initializes a HOG descriptor and configures it to use a pre-trained SVM detector for pedestrian detection. This allows you to use the HOG descriptor to detect people in images by applying the SVM classifier to the extracted HOG features."
   ]
  },
  {
   "cell_type": "code",
   "execution_count": null,
   "id": "adec1baf",
   "metadata": {},
   "outputs": [],
   "source": [
    "hog = cv2.HOGDescriptor()\n",
    "hog.setSVMDetector(cv2.HOGDescriptor_getDefaultPeopleDetector())"
   ]
  },
  {
   "cell_type": "markdown",
   "id": "7044d6e0",
   "metadata": {},
   "source": [
    "The below function provides a pipeline for detecting pedestrians in an image using HOG and SVM, and it incorporates non-maximum suppression to improve the accuracy of the detections."
   ]
  },
  {
   "cell_type": "code",
   "execution_count": null,
   "id": "f74c331d",
   "metadata": {},
   "outputs": [],
   "source": [
    "def detector(image):\n",
    "    image = imutils.resize(image, width=min(400, image.shape[1]))\n",
    "    clone = image.copy()\n",
    "    rects, weights = hog.detectMultiScale(image, winStride=(4, 4), padding=(8, 8), scale=1.05)\n",
    "    for (x, y, w, h) in rects:\n",
    "        cv2.rectangle(image, (x, y), (x + w, y + h), (0, 0, 255), 2)\n",
    "    rects = np.array([[x, y, x + w, y + h] for (x, y, w, h) in rects])\n",
    "    result = non_max_suppression(rects, probs=None, overlapThresh=0.3)  # Lowered overlapThresh\n",
    "    return result"
   ]
  },
  {
   "cell_type": "markdown",
   "id": "d4a8e61c",
   "metadata": {},
   "source": [
    "The below record function provides a way to continuously monitor an environment using a webcam, detect people using HOG and SVM, and send the number of detected people to ThingSpeak at regular intervals."
   ]
  },
  {
   "cell_type": "code",
   "execution_count": null,
   "id": "dc2a807e",
   "metadata": {},
   "outputs": [],
   "source": [
    "def record(sample_time=5):\n",
    "    print(\"recording\")\n",
    "    camera = cv2.VideoCapture(0)\n",
    "    init = time.time()\n",
    "\n",
    "    if sample_time < 3:\n",
    "        sample_time = 3\n",
    "\n",
    "    while True:\n",
    "        print(\"cap frames\")\n",
    "        ret, frame = camera.read()\n",
    "        frame = imutils.resize(frame, width=min(400, frame.shape[1]))\n",
    "        result = detector(frame.copy())\n",
    "        result1 = len(result)\n",
    "        print(result1)\n",
    "\n",
    "        for (xA, yA, xB, yB) in result:\n",
    "            cv2.rectangle(frame, (xA, yA), (xB, yB), (0, 255, 0), 2)\n",
    "\n",
    "        cv2.imshow(\"Frame\", frame)\n",
    "        cv2.waitKey(1)\n",
    "\n",
    "        if time.time() - init >= sample_time:\n",
    "            thingspeakHttp = BASE_URL + \"&field1={}\".format(result1)\n",
    "            print(thingspeakHttp)\n",
    "            conn = urlopen(thingspeakHttp)\n",
    "            print(\"Sending result\")\n",
    "            init = time.time()\n",
    "\n",
    "    camera.release()\n",
    "    cv2.destroyAllWindows()"
   ]
  },
  {
   "cell_type": "markdown",
   "id": "0c41371a",
   "metadata": {},
   "source": [
    "The main function acts as a bridge between the script's modules and the execution of the core functionality. It ensures that the record function is only called when the script is run as the main program, preventing unintended side effects if the script is imported as a module into another program."
   ]
  },
  {
   "cell_type": "code",
   "execution_count": null,
   "id": "55581507",
   "metadata": {},
   "outputs": [],
   "source": [
    "def main():\n",
    "    record()\n",
    "\n",
    "if __name__ == '__main__':\n",
    "    main()"
   ]
  }
 ],
 "metadata": {
  "kernelspec": {
   "display_name": "Python 3 (ipykernel)",
   "language": "python",
   "name": "python3"
  },
  "language_info": {
   "codemirror_mode": {
    "name": "ipython",
    "version": 3
   },
   "file_extension": ".py",
   "mimetype": "text/x-python",
   "name": "python",
   "nbconvert_exporter": "python",
   "pygments_lexer": "ipython3",
   "version": "3.10.9"
  }
 },
 "nbformat": 4,
 "nbformat_minor": 5
}
